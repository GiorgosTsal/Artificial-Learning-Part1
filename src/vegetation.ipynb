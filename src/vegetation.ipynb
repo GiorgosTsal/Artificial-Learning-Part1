{
 "cells": [
  {
   "cell_type": "code",
   "execution_count": 1,
   "metadata": {},
   "outputs": [],
   "source": [
    "import pandas as pd\n",
    "import numpy as np\n",
    "import sklearn as sk\n",
    "import matplotlib.pyplot as plt\n",
    "from sklearn.model_selection import train_test_split\n",
    "from sklearn import linear_model\n",
    "from sklearn.preprocessing import MinMaxScaler\n",
    "from sklearn.metrics import accuracy_score, f1_score\n",
    "from sklearn.discriminant_analysis import LinearDiscriminantAnalysis"
   ]
  },
  {
   "cell_type": "code",
   "execution_count": 2,
   "metadata": {},
   "outputs": [
    {
     "data": {
      "text/html": [
       "<div>\n",
       "<style scoped>\n",
       "    .dataframe tbody tr th:only-of-type {\n",
       "        vertical-align: middle;\n",
       "    }\n",
       "\n",
       "    .dataframe tbody tr th {\n",
       "        vertical-align: top;\n",
       "    }\n",
       "\n",
       "    .dataframe thead th {\n",
       "        text-align: right;\n",
       "    }\n",
       "</style>\n",
       "<table border=\"1\" class=\"dataframe\">\n",
       "  <thead>\n",
       "    <tr style=\"text-align: right;\">\n",
       "      <th></th>\n",
       "      <th>0</th>\n",
       "      <th>1</th>\n",
       "      <th>2</th>\n",
       "      <th>3</th>\n",
       "      <th>4</th>\n",
       "      <th>5</th>\n",
       "      <th>6</th>\n",
       "      <th>7</th>\n",
       "      <th>8</th>\n",
       "      <th>9</th>\n",
       "      <th>...</th>\n",
       "      <th>45</th>\n",
       "      <th>46</th>\n",
       "      <th>47</th>\n",
       "      <th>48</th>\n",
       "      <th>49</th>\n",
       "      <th>50</th>\n",
       "      <th>51</th>\n",
       "      <th>52</th>\n",
       "      <th>53</th>\n",
       "      <th>54</th>\n",
       "    </tr>\n",
       "  </thead>\n",
       "  <tbody>\n",
       "    <tr>\n",
       "      <td>0</td>\n",
       "      <td>2590</td>\n",
       "      <td>56</td>\n",
       "      <td>2</td>\n",
       "      <td>212</td>\n",
       "      <td>-6</td>\n",
       "      <td>390</td>\n",
       "      <td>220</td>\n",
       "      <td>235</td>\n",
       "      <td>151</td>\n",
       "      <td>6225</td>\n",
       "      <td>...</td>\n",
       "      <td>0</td>\n",
       "      <td>0</td>\n",
       "      <td>0</td>\n",
       "      <td>0</td>\n",
       "      <td>0</td>\n",
       "      <td>0</td>\n",
       "      <td>0</td>\n",
       "      <td>0</td>\n",
       "      <td>0</td>\n",
       "      <td>5</td>\n",
       "    </tr>\n",
       "    <tr>\n",
       "      <td>1</td>\n",
       "      <td>2804</td>\n",
       "      <td>139</td>\n",
       "      <td>9</td>\n",
       "      <td>268</td>\n",
       "      <td>65</td>\n",
       "      <td>3180</td>\n",
       "      <td>234</td>\n",
       "      <td>238</td>\n",
       "      <td>135</td>\n",
       "      <td>6121</td>\n",
       "      <td>...</td>\n",
       "      <td>0</td>\n",
       "      <td>0</td>\n",
       "      <td>0</td>\n",
       "      <td>0</td>\n",
       "      <td>0</td>\n",
       "      <td>0</td>\n",
       "      <td>0</td>\n",
       "      <td>0</td>\n",
       "      <td>0</td>\n",
       "      <td>2</td>\n",
       "    </tr>\n",
       "    <tr>\n",
       "      <td>2</td>\n",
       "      <td>2785</td>\n",
       "      <td>155</td>\n",
       "      <td>18</td>\n",
       "      <td>242</td>\n",
       "      <td>118</td>\n",
       "      <td>3090</td>\n",
       "      <td>238</td>\n",
       "      <td>238</td>\n",
       "      <td>122</td>\n",
       "      <td>6211</td>\n",
       "      <td>...</td>\n",
       "      <td>0</td>\n",
       "      <td>0</td>\n",
       "      <td>0</td>\n",
       "      <td>0</td>\n",
       "      <td>0</td>\n",
       "      <td>0</td>\n",
       "      <td>0</td>\n",
       "      <td>0</td>\n",
       "      <td>0</td>\n",
       "      <td>2</td>\n",
       "    </tr>\n",
       "    <tr>\n",
       "      <td>3</td>\n",
       "      <td>2595</td>\n",
       "      <td>45</td>\n",
       "      <td>2</td>\n",
       "      <td>153</td>\n",
       "      <td>-1</td>\n",
       "      <td>391</td>\n",
       "      <td>220</td>\n",
       "      <td>234</td>\n",
       "      <td>150</td>\n",
       "      <td>6172</td>\n",
       "      <td>...</td>\n",
       "      <td>0</td>\n",
       "      <td>0</td>\n",
       "      <td>0</td>\n",
       "      <td>0</td>\n",
       "      <td>0</td>\n",
       "      <td>0</td>\n",
       "      <td>0</td>\n",
       "      <td>0</td>\n",
       "      <td>0</td>\n",
       "      <td>5</td>\n",
       "    </tr>\n",
       "    <tr>\n",
       "      <td>4</td>\n",
       "      <td>2579</td>\n",
       "      <td>132</td>\n",
       "      <td>6</td>\n",
       "      <td>300</td>\n",
       "      <td>-15</td>\n",
       "      <td>67</td>\n",
       "      <td>230</td>\n",
       "      <td>237</td>\n",
       "      <td>140</td>\n",
       "      <td>6031</td>\n",
       "      <td>...</td>\n",
       "      <td>0</td>\n",
       "      <td>0</td>\n",
       "      <td>0</td>\n",
       "      <td>0</td>\n",
       "      <td>0</td>\n",
       "      <td>0</td>\n",
       "      <td>0</td>\n",
       "      <td>0</td>\n",
       "      <td>0</td>\n",
       "      <td>2</td>\n",
       "    </tr>\n",
       "    <tr>\n",
       "      <td>5</td>\n",
       "      <td>2606</td>\n",
       "      <td>45</td>\n",
       "      <td>7</td>\n",
       "      <td>270</td>\n",
       "      <td>5</td>\n",
       "      <td>633</td>\n",
       "      <td>222</td>\n",
       "      <td>225</td>\n",
       "      <td>138</td>\n",
       "      <td>6256</td>\n",
       "      <td>...</td>\n",
       "      <td>0</td>\n",
       "      <td>0</td>\n",
       "      <td>0</td>\n",
       "      <td>0</td>\n",
       "      <td>0</td>\n",
       "      <td>0</td>\n",
       "      <td>0</td>\n",
       "      <td>0</td>\n",
       "      <td>0</td>\n",
       "      <td>5</td>\n",
       "    </tr>\n",
       "    <tr>\n",
       "      <td>6</td>\n",
       "      <td>2605</td>\n",
       "      <td>49</td>\n",
       "      <td>4</td>\n",
       "      <td>234</td>\n",
       "      <td>7</td>\n",
       "      <td>573</td>\n",
       "      <td>222</td>\n",
       "      <td>230</td>\n",
       "      <td>144</td>\n",
       "      <td>6228</td>\n",
       "      <td>...</td>\n",
       "      <td>0</td>\n",
       "      <td>0</td>\n",
       "      <td>0</td>\n",
       "      <td>0</td>\n",
       "      <td>0</td>\n",
       "      <td>0</td>\n",
       "      <td>0</td>\n",
       "      <td>0</td>\n",
       "      <td>0</td>\n",
       "      <td>5</td>\n",
       "    </tr>\n",
       "    <tr>\n",
       "      <td>7</td>\n",
       "      <td>2617</td>\n",
       "      <td>45</td>\n",
       "      <td>9</td>\n",
       "      <td>240</td>\n",
       "      <td>56</td>\n",
       "      <td>666</td>\n",
       "      <td>223</td>\n",
       "      <td>221</td>\n",
       "      <td>133</td>\n",
       "      <td>6244</td>\n",
       "      <td>...</td>\n",
       "      <td>0</td>\n",
       "      <td>0</td>\n",
       "      <td>0</td>\n",
       "      <td>0</td>\n",
       "      <td>0</td>\n",
       "      <td>0</td>\n",
       "      <td>0</td>\n",
       "      <td>0</td>\n",
       "      <td>0</td>\n",
       "      <td>5</td>\n",
       "    </tr>\n",
       "    <tr>\n",
       "      <td>8</td>\n",
       "      <td>2612</td>\n",
       "      <td>59</td>\n",
       "      <td>10</td>\n",
       "      <td>247</td>\n",
       "      <td>11</td>\n",
       "      <td>636</td>\n",
       "      <td>228</td>\n",
       "      <td>219</td>\n",
       "      <td>124</td>\n",
       "      <td>6230</td>\n",
       "      <td>...</td>\n",
       "      <td>0</td>\n",
       "      <td>0</td>\n",
       "      <td>0</td>\n",
       "      <td>0</td>\n",
       "      <td>0</td>\n",
       "      <td>0</td>\n",
       "      <td>0</td>\n",
       "      <td>0</td>\n",
       "      <td>0</td>\n",
       "      <td>5</td>\n",
       "    </tr>\n",
       "    <tr>\n",
       "      <td>9</td>\n",
       "      <td>2612</td>\n",
       "      <td>201</td>\n",
       "      <td>4</td>\n",
       "      <td>180</td>\n",
       "      <td>51</td>\n",
       "      <td>735</td>\n",
       "      <td>218</td>\n",
       "      <td>243</td>\n",
       "      <td>161</td>\n",
       "      <td>6222</td>\n",
       "      <td>...</td>\n",
       "      <td>0</td>\n",
       "      <td>0</td>\n",
       "      <td>0</td>\n",
       "      <td>0</td>\n",
       "      <td>0</td>\n",
       "      <td>0</td>\n",
       "      <td>0</td>\n",
       "      <td>0</td>\n",
       "      <td>0</td>\n",
       "      <td>5</td>\n",
       "    </tr>\n",
       "  </tbody>\n",
       "</table>\n",
       "<p>10 rows × 55 columns</p>\n",
       "</div>"
      ],
      "text/plain": [
       "      0    1   2    3    4     5    6    7    8     9  ...  45  46  47  48  \\\n",
       "0  2590   56   2  212   -6   390  220  235  151  6225  ...   0   0   0   0   \n",
       "1  2804  139   9  268   65  3180  234  238  135  6121  ...   0   0   0   0   \n",
       "2  2785  155  18  242  118  3090  238  238  122  6211  ...   0   0   0   0   \n",
       "3  2595   45   2  153   -1   391  220  234  150  6172  ...   0   0   0   0   \n",
       "4  2579  132   6  300  -15    67  230  237  140  6031  ...   0   0   0   0   \n",
       "5  2606   45   7  270    5   633  222  225  138  6256  ...   0   0   0   0   \n",
       "6  2605   49   4  234    7   573  222  230  144  6228  ...   0   0   0   0   \n",
       "7  2617   45   9  240   56   666  223  221  133  6244  ...   0   0   0   0   \n",
       "8  2612   59  10  247   11   636  228  219  124  6230  ...   0   0   0   0   \n",
       "9  2612  201   4  180   51   735  218  243  161  6222  ...   0   0   0   0   \n",
       "\n",
       "   49  50  51  52  53  54  \n",
       "0   0   0   0   0   0   5  \n",
       "1   0   0   0   0   0   2  \n",
       "2   0   0   0   0   0   2  \n",
       "3   0   0   0   0   0   5  \n",
       "4   0   0   0   0   0   2  \n",
       "5   0   0   0   0   0   5  \n",
       "6   0   0   0   0   0   5  \n",
       "7   0   0   0   0   0   5  \n",
       "8   0   0   0   0   0   5  \n",
       "9   0   0   0   0   0   5  \n",
       "\n",
       "[10 rows x 55 columns]"
      ]
     },
     "execution_count": 2,
     "metadata": {},
     "output_type": "execute_result"
    }
   ],
   "source": [
    "#Load dataset and give headers\n",
    "df = pd.read_csv('../data/covtype.data')\n",
    "df.columns = [str(x) for x in range(0,55)] #name these columns using digits from the range 0-55\n",
    "df.head(10)"
   ]
  },
  {
   "cell_type": "code",
   "execution_count": 3,
   "metadata": {},
   "outputs": [
    {
     "data": {
      "text/plain": [
       "14    0\n",
       "15    0\n",
       "16    0\n",
       "17    0\n",
       "18    0\n",
       "19    0\n",
       "20    0\n",
       "21    0\n",
       "22    0\n",
       "23    1\n",
       "24    0\n",
       "25    0\n",
       "26    0\n",
       "27    0\n",
       "28    0\n",
       "29    0\n",
       "30    0\n",
       "31    0\n",
       "32    0\n",
       "33    0\n",
       "34    0\n",
       "35    0\n",
       "36    0\n",
       "37    0\n",
       "38    0\n",
       "39    0\n",
       "40    0\n",
       "41    0\n",
       "42    0\n",
       "43    0\n",
       "44    0\n",
       "45    0\n",
       "46    0\n",
       "47    0\n",
       "48    0\n",
       "49    0\n",
       "50    0\n",
       "51    0\n",
       "52    0\n",
       "53    0\n",
       "Name: 6000, dtype: int64"
      ]
     },
     "execution_count": 3,
     "metadata": {},
     "output_type": "execute_result"
    }
   ],
   "source": [
    "#categorical wilderness areas for element [0,]\n",
    "df.iloc[0,10:14]\n",
    "#categorical wilderness areas for element [6000,]\n",
    "df.iloc[6000,10:14]\n",
    "#categorical solil type for element[0,]\n",
    "df.iloc[0,14:54]\n",
    "#categorical solil type for element[6000,]\n",
    "df.iloc[6000,14:54]"
   ]
  },
  {
   "cell_type": "code",
   "execution_count": 4,
   "metadata": {},
   "outputs": [],
   "source": [
    "#split the dataset into train and test (train = first 15120 rows)\n",
    "y_train = df.iloc[0:15120, df.shape[1]-1]\n",
    "y_test = df.iloc[15120:, df.shape[1]-1]\n",
    "\n",
    "X_train = df.iloc[0:15120, 0:df.shape[1]-1]\n",
    "X_test = df.iloc[15120:, 0:df.shape[1]-1]"
   ]
  },
  {
   "cell_type": "code",
   "execution_count": 5,
   "metadata": {},
   "outputs": [],
   "source": [
    "#scale/normalize features X_train[0,1] because the algorithms computes distance(eg LDA)\n",
    "\n",
    "scaler = MinMaxScaler().fit(X_train)\n",
    "X_train = scaler.transform(X_train)\n",
    "\n",
    "X_test= scaler.transform(X_test)"
   ]
  },
  {
   "cell_type": "code",
   "execution_count": 6,
   "metadata": {},
   "outputs": [
    {
     "name": "stderr",
     "output_type": "stream",
     "text": [
      "[Parallel(n_jobs=1)]: Using backend SequentialBackend with 1 concurrent workers.\n"
     ]
    },
    {
     "name": "stdout",
     "output_type": "stream",
     "text": [
      "With solver = ‘lbfgs’, accuracy: 0.585251\n",
      "F1 score 0.621479\n"
     ]
    },
    {
     "name": "stderr",
     "output_type": "stream",
     "text": [
      "[Parallel(n_jobs=1)]: Done   1 out of   1 | elapsed:    2.2s finished\n"
     ]
    }
   ],
   "source": [
    "#Logistic Regression model with multinomial option = ‘lbfgs’\n",
    "log_reg = linear_model.LogisticRegression(penalty='l2', dual=False, tol=0.001, C=1.0, solver='lbfgs', max_iter=10000, multi_class='auto', verbose=1)\n",
    "log_reg.fit(X_train, y_train)\n",
    "Y_pred = log_reg.predict(X_test)\n",
    "\n",
    "\n",
    "lbfgs_score = accuracy_score(y_test,Y_pred)\n",
    "print(\"With solver = ‘lbfgs’, accuracy: %f\" %lbfgs_score)\n",
    "f1_score = f1_score(y_test,Y_pred, average='weighted')\n",
    "print(\"F1 score %f\" %f1_score)"
   ]
  },
  {
   "cell_type": "code",
   "execution_count": 7,
   "metadata": {},
   "outputs": [
    {
     "name": "stdout",
     "output_type": "stream",
     "text": [
      "[LibLinear]With solver = ‘liblinear’, accuracy: 0.561474\n"
     ]
    }
   ],
   "source": [
    "#Logistic Regression model with multinomial option = ‘liblinear’\n",
    "log_reg = linear_model.LogisticRegression(penalty='l2', dual=False, tol=0.001, C=1.0, solver='liblinear', max_iter = 10000 , multi_class='auto', verbose=1)\n",
    "log_reg.fit(X_train, y_train)\n",
    "Y_pred = log_reg.predict(X_test)\n",
    "\n",
    "\n",
    "liblinear_score = accuracy_score(y_test,Y_pred)\n",
    "print(\"With solver = ‘liblinear’, accuracy: %f\" %liblinear_score)"
   ]
  },
  {
   "cell_type": "code",
   "execution_count": 8,
   "metadata": {},
   "outputs": [
    {
     "name": "stderr",
     "output_type": "stream",
     "text": [
      "[Parallel(n_jobs=1)]: Using backend SequentialBackend with 1 concurrent workers.\n"
     ]
    },
    {
     "name": "stdout",
     "output_type": "stream",
     "text": [
      "With solver = ‘newton-cg’, accuracy: 0.585252\n"
     ]
    },
    {
     "name": "stderr",
     "output_type": "stream",
     "text": [
      "[Parallel(n_jobs=1)]: Done   1 out of   1 | elapsed:    1.3s finished\n"
     ]
    }
   ],
   "source": [
    "#Logistic Regression model with multinomial option = ‘newton-cg’\n",
    "log_reg = linear_model.LogisticRegression(penalty='l2', dual=False, tol=0.001, C=1.0, solver='newton-cg', max_iter = 10000 , multi_class='auto', verbose=1)\n",
    "log_reg.fit(X_train, y_train)\n",
    "Y_pred = log_reg.predict(X_test)\n",
    "\n",
    "\n",
    "newtoncg_score = accuracy_score(y_test,Y_pred)\n",
    "print(\"With solver = ‘newton-cg’, accuracy: %f\" %newtoncg_score)\n"
   ]
  },
  {
   "cell_type": "code",
   "execution_count": 9,
   "metadata": {},
   "outputs": [
    {
     "name": "stderr",
     "output_type": "stream",
     "text": [
      "[Parallel(n_jobs=1)]: Using backend SequentialBackend with 1 concurrent workers.\n"
     ]
    },
    {
     "name": "stdout",
     "output_type": "stream",
     "text": [
      "convergence after 22 epochs took 1 seconds\n",
      "With solver = ‘sag’, accuracy: 0.584674\n"
     ]
    },
    {
     "name": "stderr",
     "output_type": "stream",
     "text": [
      "[Parallel(n_jobs=1)]: Done   1 out of   1 | elapsed:    0.7s finished\n"
     ]
    }
   ],
   "source": [
    "#Logistic Regression model with multinomial option = ‘sag’\n",
    "log_reg = linear_model.LogisticRegression(penalty='l2', dual=False, tol=0.001, C=1.0, solver='sag', max_iter = 10000 , multi_class='auto', verbose=1)\n",
    "log_reg.fit(X_train, y_train)\n",
    "Y_pred = log_reg.predict(X_test)\n",
    "\n",
    "\n",
    "sag_score = accuracy_score(y_test,Y_pred)\n",
    "print(\"With solver = ‘sag’, accuracy: %f\" %sag_score)\n"
   ]
  },
  {
   "cell_type": "code",
   "execution_count": 10,
   "metadata": {},
   "outputs": [
    {
     "name": "stderr",
     "output_type": "stream",
     "text": [
      "[Parallel(n_jobs=1)]: Using backend SequentialBackend with 1 concurrent workers.\n"
     ]
    },
    {
     "name": "stdout",
     "output_type": "stream",
     "text": [
      "convergence after 36 epochs took 2 seconds\n",
      "With solver = ‘saga’, accuracy: 0.585164\n"
     ]
    },
    {
     "name": "stderr",
     "output_type": "stream",
     "text": [
      "[Parallel(n_jobs=1)]: Done   1 out of   1 | elapsed:    2.3s finished\n"
     ]
    }
   ],
   "source": [
    "#Logistic Regression model with multinomial option = ‘saga’\n",
    "log_reg = linear_model.LogisticRegression(penalty='l2', dual=False, tol=0.001, C=1.0, solver='saga', max_iter = 10000 , multi_class='auto', verbose=1)\n",
    "log_reg.fit(X_train, y_train)\n",
    "Y_pred = log_reg.predict(X_test)\n",
    "\n",
    "\n",
    "saga_score = accuracy_score(y_test,Y_pred)\n",
    "print(\"With solver = ‘saga’, accuracy: %f\" %saga_score)\n"
   ]
  },
  {
   "cell_type": "code",
   "execution_count": 11,
   "metadata": {},
   "outputs": [
    {
     "name": "stderr",
     "output_type": "stream",
     "text": [
      "[Parallel(n_jobs=1)]: Using backend SequentialBackend with 1 concurrent workers.\n",
      "[Parallel(n_jobs=1)]: Done   1 out of   1 | elapsed:    2.9s finished\n",
      "[Parallel(n_jobs=1)]: Using backend SequentialBackend with 1 concurrent workers.\n",
      "[Parallel(n_jobs=1)]: Done   1 out of   1 | elapsed:    2.7s finished\n",
      "[Parallel(n_jobs=1)]: Using backend SequentialBackend with 1 concurrent workers.\n",
      "[Parallel(n_jobs=1)]: Done   1 out of   1 | elapsed:    2.1s finished\n",
      "[Parallel(n_jobs=1)]: Using backend SequentialBackend with 1 concurrent workers.\n",
      "[Parallel(n_jobs=1)]: Done   1 out of   1 | elapsed:    1.5s finished\n",
      "[Parallel(n_jobs=1)]: Using backend SequentialBackend with 1 concurrent workers.\n",
      "[Parallel(n_jobs=1)]: Done   1 out of   1 | elapsed:    1.3s finished\n",
      "[Parallel(n_jobs=1)]: Using backend SequentialBackend with 1 concurrent workers.\n",
      "[Parallel(n_jobs=1)]: Done   1 out of   1 | elapsed:    1.0s finished\n",
      "[Parallel(n_jobs=1)]: Using backend SequentialBackend with 1 concurrent workers.\n",
      "[Parallel(n_jobs=1)]: Done   1 out of   1 | elapsed:    0.7s finished\n",
      "[Parallel(n_jobs=1)]: Using backend SequentialBackend with 1 concurrent workers.\n",
      "[Parallel(n_jobs=1)]: Done   1 out of   1 | elapsed:    0.7s finished\n",
      "[Parallel(n_jobs=1)]: Using backend SequentialBackend with 1 concurrent workers.\n",
      "[Parallel(n_jobs=1)]: Done   1 out of   1 | elapsed:    0.5s finished\n",
      "[Parallel(n_jobs=1)]: Using backend SequentialBackend with 1 concurrent workers.\n",
      "[Parallel(n_jobs=1)]: Done   1 out of   1 | elapsed:    0.3s finished\n",
      "[Parallel(n_jobs=1)]: Using backend SequentialBackend with 1 concurrent workers.\n",
      "[Parallel(n_jobs=1)]: Done   1 out of   1 | elapsed:    0.3s finished\n",
      "[Parallel(n_jobs=1)]: Using backend SequentialBackend with 1 concurrent workers.\n",
      "[Parallel(n_jobs=1)]: Done   1 out of   1 | elapsed:    0.2s finished\n",
      "[Parallel(n_jobs=1)]: Using backend SequentialBackend with 1 concurrent workers.\n",
      "[Parallel(n_jobs=1)]: Done   1 out of   1 | elapsed:    0.2s finished\n",
      "[Parallel(n_jobs=1)]: Using backend SequentialBackend with 1 concurrent workers.\n",
      "[Parallel(n_jobs=1)]: Done   1 out of   1 | elapsed:    0.1s finished\n",
      "[Parallel(n_jobs=1)]: Using backend SequentialBackend with 1 concurrent workers.\n",
      "[Parallel(n_jobs=1)]: Done   1 out of   1 | elapsed:    0.0s finished\n"
     ]
    }
   ],
   "source": [
    "#Analysing sensitivity for parameters\n",
    "#param tol : Tolerance for stopping criteria. (default=1e-4)\n",
    "\n",
    "score = []\n",
    "toler = []\n",
    "toler.extend([0.00001, 0.0001,0.1, 0.5, 1, 3, 5, 10, 15, 20, 30, 40,50,100,400])\n",
    "for t in toler:\n",
    "    #Logistic Regression model with multinomial option = ‘lbfgs’\n",
    "    log_reg = linear_model.LogisticRegression(penalty='l2', dual=False, tol=t, C=1.0, solver='lbfgs', max_iter=10000, multi_class='auto', verbose=1)\n",
    "    log_reg.fit(X_train, y_train)\n",
    "    Y_pred = log_reg.predict(X_test)\n",
    "    \n",
    "\n",
    "    lbfgs_score = accuracy_score(y_test,Y_pred)\n",
    "    score.append(lbfgs_score)\n",
    "    "
   ]
  },
  {
   "cell_type": "code",
   "execution_count": 12,
   "metadata": {},
   "outputs": [
    {
     "data": {
      "image/png": "[encoded data removed]",
      "text/plain": [
       "<Figure size 432x288 with 1 Axes>"
      ]
     },
     "metadata": {
      "needs_background": "light"
     },
     "output_type": "display_data"
    }
   ],
   "source": [
    "fig = plt.figure()\n",
    "plt.title(\"Accuracy-Tolerance\")\n",
    "plt.plot(toler, score,)\n",
    "plt.grid()\n",
    "plt.xlabel(\"tolerance values\")\n",
    "plt.ylabel(\"accuracy\")\n",
    "plt.show()"
   ]
  },
  {
   "cell_type": "code",
   "execution_count": 13,
   "metadata": {},
   "outputs": [
    {
     "name": "stdout",
     "output_type": "stream",
     "text": [
      "[0.001, 0.01, 0.1, 1, 10, 100]\n"
     ]
    },
    {
     "name": "stderr",
     "output_type": "stream",
     "text": [
      "[Parallel(n_jobs=1)]: Using backend SequentialBackend with 1 concurrent workers.\n",
      "[Parallel(n_jobs=1)]: Done   1 out of   1 | elapsed:    0.3s finished\n",
      "[Parallel(n_jobs=1)]: Using backend SequentialBackend with 1 concurrent workers.\n",
      "[Parallel(n_jobs=1)]: Done   1 out of   1 | elapsed:    0.6s finished\n",
      "[Parallel(n_jobs=1)]: Using backend SequentialBackend with 1 concurrent workers.\n",
      "[Parallel(n_jobs=1)]: Done   1 out of   1 | elapsed:    0.9s finished\n",
      "[Parallel(n_jobs=1)]: Using backend SequentialBackend with 1 concurrent workers.\n",
      "[Parallel(n_jobs=1)]: Done   1 out of   1 | elapsed:    2.2s finished\n",
      "[Parallel(n_jobs=1)]: Using backend SequentialBackend with 1 concurrent workers.\n",
      "[Parallel(n_jobs=1)]: Done   1 out of   1 | elapsed:    5.1s finished\n",
      "[Parallel(n_jobs=1)]: Using backend SequentialBackend with 1 concurrent workers.\n"
     ]
    },
    {
     "name": "stdout",
     "output_type": "stream",
     "text": [
      "[0.3868253780321652, 0.5216923400442841, 0.5660029935093508, 0.5852505164422124, 0.5942716883640136, 0.5954097167122291]\n"
     ]
    },
    {
     "name": "stderr",
     "output_type": "stream",
     "text": [
      "[Parallel(n_jobs=1)]: Done   1 out of   1 | elapsed:   10.6s finished\n"
     ]
    }
   ],
   "source": [
    "#Analysing sensitivity for parameters\n",
    "#param C : Inverse of regularization strength. (default=1.0)\n",
    "\n",
    "score = []\n",
    "c_val = [ 0.001, 0.01, 0.1, 1, 10, 100]\n",
    "print(c_val)\n",
    "for c in c_val:\n",
    "    #Logistic Regression model with multinomial option = ‘lbfgs’\n",
    "    log_reg = linear_model.LogisticRegression(penalty='l2', dual=False, tol=0.001, C=c, solver='lbfgs', max_iter=10000, multi_class='auto', verbose=1)\n",
    "    log_reg.fit(X_train, y_train)\n",
    "    Y_pred = log_reg.predict(X_test)\n",
    "    \n",
    "\n",
    "    lbfgs_score = accuracy_score(y_test,Y_pred)\n",
    "    score.append(lbfgs_score)\n",
    "    \n",
    "print(score)"
   ]
  },
  {
   "cell_type": "code",
   "execution_count": 14,
   "metadata": {},
   "outputs": [
    {
     "data": {
      "image/png": "[encoded data removed]",
      "text/plain": [
       "<Figure size 432x288 with 1 Axes>"
      ]
     },
     "metadata": {
      "needs_background": "light"
     },
     "output_type": "display_data"
    }
   ],
   "source": [
    "fig = plt.figure()\n",
    "plt.title(\"Accuracy - C\")\n",
    "plt.plot(score,c_val)\n",
    "plt.grid()\n",
    "plt.ylabel(\"C values\")\n",
    "plt.xlabel(\"accuracy\")\n",
    "plt.show()"
   ]
  },
  {
   "cell_type": "code",
   "execution_count": 15,
   "metadata": {},
   "outputs": [
    {
     "name": "stdout",
     "output_type": "stream",
     "text": [
      "---Convergence time: 0.18554401397705078 seconds ---\n",
      "LDA with solver='svd', accuracy: 0.580962\n"
     ]
    },
    {
     "name": "stderr",
     "output_type": "stream",
     "text": [
      "/home/gtsal/anaconda3/lib/python3.7/site-packages/sklearn/discriminant_analysis.py:388: UserWarning: Variables are collinear.\n",
      "  warnings.warn(\"Variables are collinear.\")\n"
     ]
    }
   ],
   "source": [
    "#Run LDA with solver='svd'\n",
    "import time\n",
    "start_time = time.time()\n",
    "lda = LinearDiscriminantAnalysis(solver='svd', priors=None, tol=0.1).fit(X_train, y_train)\n",
    "Y_pred = lda.predict(X_test)\n",
    "print(\"---Convergence time: %s seconds ---\" % (time.time() - start_time))\n",
    "lda_score = accuracy_score(y_test,Y_pred)\n",
    "\n",
    "print(\"LDA with solver='svd', accuracy: %f\" %lda_score)\n",
    "    "
   ]
  },
  {
   "cell_type": "code",
   "execution_count": 16,
   "metadata": {},
   "outputs": [
    {
     "name": "stdout",
     "output_type": "stream",
     "text": [
      "---Convergence time: 0.1725001335144043 seconds ---\n",
      "LDA with solver='lsqr' and Shrinkage=0.0001 , accuracy: 0.581310\n"
     ]
    }
   ],
   "source": [
    "#Run LDA with solver='lsqr' and Shrinkage=0.0001\n",
    "start_time = time.time()\n",
    "lda = LinearDiscriminantAnalysis(solver='lsqr', shrinkage=0.0001, priors=None, tol=0.001).fit(X_train, y_train)\n",
    "Y_pred = lda.predict(X_test)\n",
    "print(\"---Convergence time: %s seconds ---\" % (time.time() - start_time))\n",
    "lda_score = accuracy_score(y_test,Y_pred)\n",
    "\n",
    "print(\"LDA with solver='lsqr' and Shrinkage=0.0001 , accuracy: %f\" %lda_score)\n",
    "    "
   ]
  },
  {
   "cell_type": "code",
   "execution_count": 17,
   "metadata": {},
   "outputs": [
    {
     "name": "stdout",
     "output_type": "stream",
     "text": [
      "---Convergence time: 0.1718287467956543 seconds ---\n",
      "LDA with solver='eigen', accuracy: 0.581310\n"
     ]
    }
   ],
   "source": [
    "#Run LDA with solver='eigen' and Shrinkage=0.0001\n",
    "start_time = time.time()\n",
    "lda = LinearDiscriminantAnalysis(solver='eigen', shrinkage=0.0001, priors=None, tol=0.001).fit(X_train, y_train)\n",
    "Y_pred = lda.predict(X_test)\n",
    "print(\"---Convergence time: %s seconds ---\" % (time.time() - start_time))\n",
    "lda_score = accuracy_score(y_test,Y_pred)\n",
    "\n",
    "print(\"LDA with solver='eigen', accuracy: %f\" %lda_score)\n",
    "    "
   ]
  },
  {
   "cell_type": "code",
   "execution_count": 18,
   "metadata": {},
   "outputs": [],
   "source": [
    "#game of thrones\n",
    "\n",
    "#1) binary classification problem\n",
    "\n",
    "#2) transform to categorical features with enumeration, normalize data, find if are NaN values exists(if i have problem with lack of data)\n"
   ]
  },
  {
   "cell_type": "code",
   "execution_count": null,
   "metadata": {},
   "outputs": [],
   "source": []
  }
 ],
 "metadata": {
  "kernelspec": {
   "display_name": "Python 3",
   "language": "python",
   "name": "python3"
  },
  "language_info": {
   "codemirror_mode": {
    "name": "ipython",
    "version": 3
   },
   "file_extension": ".py",
   "mimetype": "text/x-python",
   "name": "python",
   "nbconvert_exporter": "python",
   "pygments_lexer": "ipython3",
   "version": "3.7.4"
  }
 },
 "nbformat": 4,
 "nbformat_minor": 2
}
